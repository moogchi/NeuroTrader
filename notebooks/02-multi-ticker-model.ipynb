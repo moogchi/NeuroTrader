{
 "cells": [
  {
   "cell_type": "code",
   "execution_count": 1,
   "id": "00ee5047-74ce-4793-8935-d3670100608f",
   "metadata": {},
   "outputs": [],
   "source": [
    "import pandas as pd\n",
    "import os\n",
    "from textblob import TextBlob\n",
    "\n",
    "ticker_file = '../ticker.txt'\n",
    "data_dir = '../data/raw'"
   ]
  },
  {
   "cell_type": "code",
   "execution_count": 2,
   "id": "d268ff48-422f-4efc-8eb3-db2aa0602ed6",
   "metadata": {},
   "outputs": [
    {
     "name": "stdout",
     "output_type": "stream",
     "text": [
      "Found 10 tickers\n",
      "['AAPL', 'AMZN', 'DIS', 'GOOG', 'KO', 'MCD', 'META', 'MSFT', 'NVDA', 'TSLA']\n"
     ]
    }
   ],
   "source": [
    "all_prices_df_list = []\n",
    "\n",
    "try:\n",
    "    with open(ticker_file, 'r') as infile:\n",
    "        tickers = [line.strip() for line in infile if line.strip()]\n",
    "    print(f\"Found {len(tickers)} tickers\")\n",
    "except FileNotFoundError:\n",
    "    print(\"Can't find file\")\n",
    "    tickers = []\n",
    "print(tickers)"
   ]
  },
  {
   "cell_type": "code",
   "execution_count": 3,
   "id": "921dd4ca-a26b-4e40-8437-ec1dc4c70a28",
   "metadata": {},
   "outputs": [
    {
     "name": "stdout",
     "output_type": "stream",
     "text": [
      "\n",
      "Finished loading prices for 10 tickers\n",
      "[               Open    High      Low   Close       Volume Ticker\n",
      "Date                                                            \n",
      "1999-11-01   80.000   80.69   77.370   77.62    2487300.0   AAPL\n",
      "1999-11-02   78.000   81.69   77.310   80.25    3564600.0   AAPL\n",
      "1999-11-03   81.620   83.25   81.000   81.50    2932700.0   AAPL\n",
      "1999-11-04   82.060   85.37   80.620   83.62    3384700.0   AAPL\n",
      "1999-11-05   84.620   88.37   84.000   88.31    3721500.0   AAPL\n",
      "...             ...     ...      ...     ...          ...    ...\n",
      "2025-08-04  204.505  207.88  201.675  203.35   75109298.0   AAPL\n",
      "2025-08-05  203.400  205.34  202.160  202.92   44155079.0   AAPL\n",
      "2025-08-06  205.630  215.38  205.590  213.25  108483103.0   AAPL\n",
      "2025-08-07  218.875  220.85  216.580  220.03   90224834.0   AAPL\n",
      "2025-08-08  220.830  231.00  219.250  229.35  113853967.0   AAPL\n",
      "\n",
      "[6482 rows x 6 columns],                Open      High       Low   Close      Volume Ticker\n",
      "Date                                                              \n",
      "2025-04-11  179.930  185.8600  178.0000  184.87  50594339.0   AMZN\n",
      "2025-04-14  186.840  187.4400  179.2300  182.12  48002540.0   AMZN\n",
      "2025-04-15  181.410  182.3500  177.9331  179.59  43641952.0   AMZN\n",
      "2025-04-16  176.290  179.1046  171.4100  174.33  51875316.0   AMZN\n",
      "2025-04-17  176.000  176.2100  172.0000  172.61  44726453.0   AMZN\n",
      "...             ...       ...       ...     ...         ...    ...\n",
      "2025-08-28  229.005  232.7100  228.0200  231.60  33679585.0   AMZN\n",
      "2025-08-29  231.320  231.8125  228.1600  229.00  26199170.0   AMZN\n",
      "2025-09-02  223.520  226.1700  221.8300  225.34  38843883.0   AMZN\n",
      "2025-09-03  225.210  227.1699  224.3600  225.99  26355706.0   AMZN\n",
      "2025-09-04  231.185  235.7700  230.7800  235.68  59391779.0   AMZN\n",
      "\n",
      "[100 rows x 6 columns],               Open      High       Low   Close      Volume Ticker\n",
      "Date                                                             \n",
      "2025-04-11   85.11   85.6659   83.3500   84.89  10204364.0    DIS\n",
      "2025-04-14   85.83   86.4500   84.0300   84.66  10841307.0    DIS\n",
      "2025-04-15   84.75   85.9800   84.5200   85.01   7840454.0    DIS\n",
      "2025-04-16   84.28   84.8000   82.0072   82.77  10144289.0    DIS\n",
      "2025-04-17   83.37   85.7800   83.3600   84.81  14810894.0    DIS\n",
      "...            ...       ...       ...     ...         ...    ...\n",
      "2025-08-28  118.10  118.3700  116.6100  117.64   5687698.0    DIS\n",
      "2025-08-29  117.39  118.6450  117.2450  118.38   5212602.0    DIS\n",
      "2025-09-02  117.02  118.2800  115.9965  118.27   6015871.0    DIS\n",
      "2025-09-03  117.83  118.6200  116.3500  117.38   6194265.0    DIS\n",
      "2025-09-04  117.08  119.6750  116.7600  118.81   6949291.0    DIS\n",
      "\n",
      "[100 rows x 6 columns],                Open     High      Low   Close      Volume Ticker\n",
      "Date                                                            \n",
      "2025-04-11  155.585  159.860  155.585  159.40  22581989.0   GOOG\n",
      "2025-04-14  162.310  164.030  159.920  161.47  18255931.0   GOOG\n",
      "2025-04-15  161.570  162.050  157.645  158.68  15690783.0   GOOG\n",
      "2025-04-16  155.470  158.180  153.910  155.50  16921497.0   GOOG\n",
      "2025-04-17  156.610  157.070  150.900  153.36  19513408.0   GOOG\n",
      "...             ...      ...      ...     ...         ...    ...\n",
      "2025-08-28  207.840  212.900  207.600  212.37  20915705.0   GOOG\n",
      "2025-08-29  211.270  215.340  210.970  213.53  24682224.0   GOOG\n",
      "2025-09-02  208.990  212.369  206.960  211.99  28900069.0   GOOG\n",
      "2025-09-03  226.480  231.800  225.120  231.10  70558470.0   GOOG\n",
      "2025-09-04  230.155  232.770  226.760  232.66  32196009.0   GOOG\n",
      "\n",
      "[100 rows x 6 columns],               Open    High     Low  Close      Volume Ticker\n",
      "Date                                                        \n",
      "2025-04-11  70.905  71.850  70.540  71.43  19988203.0     KO\n",
      "2025-04-14  71.300  72.660  70.930  72.45  13930207.0     KO\n",
      "2025-04-15  72.620  72.630  71.725  71.86  14965492.0     KO\n",
      "2025-04-16  72.360  72.665  71.385  71.68  15276216.0     KO\n",
      "2025-04-17  71.900  73.425  71.720  73.00  20754495.0     KO\n",
      "...            ...     ...     ...    ...         ...    ...\n",
      "2025-08-28  68.880  68.900  68.280  68.36  16209870.0     KO\n",
      "2025-08-29  68.670  69.140  68.425  68.99  14601094.0     KO\n",
      "2025-09-02  68.960  69.340  68.255  69.06  24770073.0     KO\n",
      "2025-09-03  68.660  69.095  67.370  68.99  33392402.0     KO\n",
      "2025-09-04  69.110  69.460  68.115  68.25  16736009.0     KO\n",
      "\n",
      "[100 rows x 6 columns],               Open     High       Low   Close     Volume Ticker\n",
      "Date                                                           \n",
      "2025-04-11  306.47  310.890  303.9601  309.90  4440059.0    MCD\n",
      "2025-04-14  312.43  318.200  311.1300  316.07  4068713.0    MCD\n",
      "2025-04-15  316.13  317.195  311.8400  312.48  2901367.0    MCD\n",
      "2025-04-16  313.57  314.290  307.3700  309.10  3099078.0    MCD\n",
      "2025-04-17  309.22  312.990  307.1300  311.30  2728460.0    MCD\n",
      "...            ...      ...       ...     ...        ...    ...\n",
      "2025-08-28  311.12  312.520  309.3473  312.22  3471683.0    MCD\n",
      "2025-08-29  312.23  313.900  311.4300  313.54  2492471.0    MCD\n",
      "2025-09-02  313.05  316.130  312.3250  315.76  3228651.0    MCD\n",
      "2025-09-03  315.02  316.870  312.9800  316.39  3108874.0    MCD\n",
      "2025-09-04  317.82  319.425  316.4800  316.99  2881528.0    MCD\n",
      "\n",
      "[100 rows x 6 columns],                Open      High       Low   Close      Volume Ticker\n",
      "Date                                                              \n",
      "2025-04-11  535.505  547.4000  528.5901  543.57  17642327.0   META\n",
      "2025-04-14  556.175  557.7700  528.2800  531.48  14130928.0   META\n",
      "2025-04-15  532.105  537.9400  517.5000  521.52  15558659.0   META\n",
      "2025-04-16  508.510  513.3700  495.6300  502.31  18735075.0   META\n",
      "2025-04-17  505.250  507.3000  498.0133  501.48  14593508.0   META\n",
      "...             ...       ...       ...     ...         ...    ...\n",
      "2025-08-28  744.000  753.0548  740.7950  751.11   7467955.0   META\n",
      "2025-08-29  745.280  747.1400  735.3466  738.70   9070546.0   META\n",
      "2025-09-02  726.040  736.0000  721.7306  735.11   9350857.0   META\n",
      "2025-09-03  736.000  740.2500  733.9893  737.05   7650495.0   META\n",
      "2025-09-04  748.570  761.1600  745.8200  748.65  11439078.0   META\n",
      "\n",
      "[100 rows x 6 columns],                Open      High       Low   Close      Volume Ticker\n",
      "Date                                                              \n",
      "2025-04-11  380.635  390.0500  378.8900  388.45  23839220.0   MSFT\n",
      "2025-04-14  393.220  394.6500  384.2100  387.81  19251172.0   MSFT\n",
      "2025-04-15  388.505  391.8900  384.1599  385.73  17199890.0   MSFT\n",
      "2025-04-16  380.670  381.6100  368.0000  371.61  21967826.0   MSFT\n",
      "2025-04-17  373.745  374.3215  366.8900  367.78  21120192.0   MSFT\n",
      "...             ...       ...       ...     ...         ...    ...\n",
      "2025-08-28  507.090  511.0900  505.5000  509.64  18015593.0   MSFT\n",
      "2025-08-29  508.660  509.6000  504.4915  506.69  20961569.0   MSFT\n",
      "2025-09-02  500.465  506.0000  496.8100  505.12  18127995.0   MSFT\n",
      "2025-09-03  503.790  507.7900  502.3200  505.35  15995154.0   MSFT\n",
      "2025-09-04  504.300  508.1500  503.1500  507.97  15509486.0   MSFT\n",
      "\n",
      "[100 rows x 6 columns],               Open      High      Low   Close       Volume Ticker\n",
      "Date                                                             \n",
      "2025-04-11  108.50  111.5499  107.480  110.93  313417265.0   NVDA\n",
      "2025-04-14  114.11  114.2900  109.070  110.71  264705049.0   NVDA\n",
      "2025-04-15  110.97  113.6150  110.500  112.20  228966900.0   NVDA\n",
      "2025-04-16  104.55  106.7900  100.450  104.49  397016870.0   NVDA\n",
      "2025-04-17  104.45  104.4700  100.050  101.49  292517465.0   NVDA\n",
      "...            ...       ...      ...     ...          ...    ...\n",
      "2025-08-28  180.82  184.4700  176.410  180.17  281787824.0   NVDA\n",
      "2025-08-29  178.11  178.1500  173.145  174.18  243257873.0   NVDA\n",
      "2025-09-02  170.00  172.3790  167.220  170.78  231164853.0   NVDA\n",
      "2025-09-03  171.06  172.4100  168.875  170.62  161466040.0   NVDA\n",
      "2025-09-04  170.57  171.8600  169.410  171.66  141670144.0   NVDA\n",
      "\n",
      "[100 rows x 6 columns],               Open      High       Low   Close       Volume Ticker\n",
      "Date                                                              \n",
      "2025-04-11  251.84  257.7400  241.3629  252.31  128948085.0   TSLA\n",
      "2025-04-14  258.36  261.8000  245.9300  252.35  100135241.0   TSLA\n",
      "2025-04-15  249.91  258.7500  247.5400  254.11   79594318.0   TSLA\n",
      "2025-04-16  247.61  251.9700  233.8900  241.55  112378737.0   TSLA\n",
      "2025-04-17  243.47  244.3400  237.6833  241.37   83404775.0   TSLA\n",
      "...            ...       ...       ...     ...          ...    ...\n",
      "2025-08-28  350.91  353.5500  340.2600  345.98   67903224.0   TSLA\n",
      "2025-08-29  347.23  348.7499  331.7000  333.87   81145660.0   TSLA\n",
      "2025-09-02  328.23  333.3300  325.6000  329.36   58391952.0   TSLA\n",
      "2025-09-03  335.20  343.3300  328.5100  334.09   88238894.0   TSLA\n",
      "2025-09-04  336.15  338.8900  331.4800  338.53   60711033.0   TSLA\n",
      "\n",
      "[100 rows x 6 columns]]\n"
     ]
    }
   ],
   "source": [
    "\n",
    "all_prices_df_list.clear()\n",
    "for ticker in tickers:\n",
    "    price_path = os.path.join(data_dir, f\"{ticker}_price_history.csv\")\n",
    "    if os.path.exists(price_path):\n",
    "        price_df = pd.read_csv(price_path, index_col = 'Date', parse_dates=True)\n",
    "        price_df['Ticker'] = ticker\n",
    "        all_prices_df_list.append(price_df)\n",
    "    else:\n",
    "        print(\"Price not found\")\n",
    "print(f\"\\nFinished loading prices for {len(all_prices_df_list)} tickers\")\n",
    "print(all_prices_df_list)\n",
    "        "
   ]
  },
  {
   "cell_type": "code",
   "execution_count": 4,
   "id": "2d0c16ec-29f9-4218-a732-ba237cfb7b33",
   "metadata": {
    "scrolled": true
   },
   "outputs": [
    {
     "name": "stdout",
     "output_type": "stream",
     "text": [
      "(7382, 6)\n",
      "<bound method NDFrame.head of                Open     High     Low   Close      Volume Ticker\n",
      "Date                                                           \n",
      "1999-11-01   80.000   80.690   77.37   77.62   2487300.0   AAPL\n",
      "1999-11-02   78.000   81.690   77.31   80.25   3564600.0   AAPL\n",
      "1999-11-03   81.620   83.250   81.00   81.50   2932700.0   AAPL\n",
      "1999-11-04   82.060   85.370   80.62   83.62   3384700.0   AAPL\n",
      "1999-11-05   84.620   88.370   84.00   88.31   3721500.0   AAPL\n",
      "...             ...      ...     ...     ...         ...    ...\n",
      "2025-09-04  317.820  319.425  316.48  316.99   2881528.0    MCD\n",
      "2025-09-04  117.080  119.675  116.76  118.81   6949291.0    DIS\n",
      "2025-09-04  231.185  235.770  230.78  235.68  59391779.0   AMZN\n",
      "2025-09-04  230.155  232.770  226.76  232.66  32196009.0   GOOG\n",
      "2025-09-04  336.150  338.890  331.48  338.53  60711033.0   TSLA\n",
      "\n",
      "[7382 rows x 6 columns]>\n"
     ]
    }
   ],
   "source": [
    "#combine price datas\n",
    "if all_prices_df_list:\n",
    "    combined_price_df = pd.concat(all_prices_df_list)\n",
    "    combined_price_df.sort_index(inplace=True)\n",
    "\n",
    "    print(combined_price_df.shape)\n",
    "    print(combined_price_df.head)"
   ]
  },
  {
   "cell_type": "code",
   "execution_count": 5,
   "id": "e4176b8f-a85a-44d7-81e1-e613be5c7030",
   "metadata": {},
   "outputs": [
    {
     "name": "stdout",
     "output_type": "stream",
     "text": [
      "\n",
      "Finished loading news for 10 tickers\n",
      "[             Date                                           Headline Ticker\n",
      "0      2025-08-10  Warren Buffett's Bright Warning to Wall Street...   AAPL\n",
      "1      2025-08-10                          Is Apple Stock a Buy Now?   AAPL\n",
      "2      2025-08-09  Microsoft, Apple, Amazon, and Meta Just Gave N...   AAPL\n",
      "3      2025-08-09  AAPL NEWS: Did Apple Inc. Mislead Investors? C...   AAPL\n",
      "4      2025-08-09                   Is Arm Holdings Stock a Buy Now?   AAPL\n",
      "...           ...                                                ...    ...\n",
      "20062  2018-11-25       Stock Market Power Rankings: Save Us, Amazon   AAPL\n",
      "20063  2018-11-18  Stock Market Power Rankings: Apple's $190 Bill...   AAPL\n",
      "20064  2018-11-12  Stock Market Power Rankings: Last Call for Fac...   AAPL\n",
      "20065  2018-11-05                        Stock Market Power Rankings   AAPL\n",
      "20066  2017-04-10         Invest Like Warren Buffett, Not Carl Icahn   AAPL\n",
      "\n",
      "[20067 rows x 3 columns],              Date                                           Headline Ticker\n",
      "0      2025-08-19  Applied Digital Stock Rally Reflects Market Be...   AMZN\n",
      "1      2025-08-19  Billionaire Investors Warren Buffett, Bill Ack...   AMZN\n",
      "2      2025-08-19  Super Micro Computer: Stock Selloff Meets Inst...   AMZN\n",
      "3      2025-08-19  A New Era of Investing: Can These ETFs Outperf...   AMZN\n",
      "4      2025-08-19  If I Could Only Buy and Hold a Single Stock, T...   AMZN\n",
      "...           ...                                                ...    ...\n",
      "21732  2018-11-25       Stock Market Power Rankings: Save Us, Amazon   AMZN\n",
      "21733  2018-11-18  Stock Market Power Rankings: Apple's $190 Bill...   AMZN\n",
      "21734  2018-11-12  Stock Market Power Rankings: Last Call for Fac...   AMZN\n",
      "21735  2018-11-05                        Stock Market Power Rankings   AMZN\n",
      "21736  2018-01-06  The 2017 Industry Focus Awards: Best Fact and MVP   AMZN\n",
      "\n",
      "[21737 rows x 3 columns],             Date                                           Headline Ticker\n",
      "0     2025-08-26  Industry Leaders Transform Enterprise Data Cen...    DIS\n",
      "1     2025-08-26  2 Safe Dividend Stocks to Buy Now That Could H...    DIS\n",
      "2     2025-08-22  Here's How Many Shares of Disney You Should Ow...    DIS\n",
      "3     2025-08-19  Avoya Travel Celebrates Top Advisors at 2025 M...    DIS\n",
      "4     2025-08-18                 2 Stocks Under $5 to Buy in August    DIS\n",
      "...          ...                                                ...    ...\n",
      "6774  2018-12-02  Stock Market Power Rankings: Microsoft Parties...    DIS\n",
      "6775  2018-11-25       Stock Market Power Rankings: Save Us, Amazon    DIS\n",
      "6776  2018-11-18  Stock Market Power Rankings: Apple's $190 Bill...    DIS\n",
      "6777  2018-11-12  Stock Market Power Rankings: Last Call for Fac...    DIS\n",
      "6778  2018-11-05                        Stock Market Power Rankings    DIS\n",
      "\n",
      "[6779 rows x 3 columns],              Date                                           Headline Ticker\n",
      "0      2025-08-15  RDDT DEADLINE MONDAY: ROSEN, A TOP RANKED LAW ...   GOOG\n",
      "1      2025-08-15  Best Quantum Computing Stock: D-Wave Quantum o...   GOOG\n",
      "2      2025-08-15  Prediction: This Artificial Intelligence (AI) ...   GOOG\n",
      "3      2025-08-14  Deadline Alert: Reddit, Inc. (RDDT) Investors ...   GOOG\n",
      "4      2025-08-14  3 Mega-Caps That Outperformed Expectations Thi...   GOOG\n",
      "...           ...                                                ...    ...\n",
      "11063  2018-11-18  Stock Market Power Rankings: Apple's $190 Bill...   GOOG\n",
      "11064  2018-11-12  Stock Market Power Rankings: Last Call for Fac...   GOOG\n",
      "11065  2018-11-05                        Stock Market Power Rankings   GOOG\n",
      "11066  2017-12-31     Artificial Intelligence's \"Holy Grail\" Victory   GOOG\n",
      "11067  2016-06-28  Facebook and Alphabet: Two Stocks to Buy Post-...   GOOG\n",
      "\n",
      "[11068 rows x 3 columns],             Date                                           Headline Ticker\n",
      "0     2025-08-24        Where Will Berkshire Hathaway Be in 1 Year?     KO\n",
      "1     2025-08-23  Worried About a Bear Market? 3 Reasons to Buy ...     KO\n",
      "2     2025-08-23         Is Coca-Cola a Safe Dividend Stock to Buy?     KO\n",
      "3     2025-08-22  Monster Is Re-Energized: Can the Stock's Rally...     KO\n",
      "4     2025-08-21  Dow Jones Bulls Await Fed Catalyst to Push Pas...     KO\n",
      "...          ...                                                ...    ...\n",
      "3346  2018-12-02  Stock Market Power Rankings: Microsoft Parties...     KO\n",
      "3347  2018-11-25       Stock Market Power Rankings: Save Us, Amazon     KO\n",
      "3348  2018-11-18  Stock Market Power Rankings: Apple's $190 Bill...     KO\n",
      "3349  2018-11-12  Stock Market Power Rankings: Last Call for Fac...     KO\n",
      "3350  2018-11-05                        Stock Market Power Rankings     KO\n",
      "\n",
      "[3351 rows x 3 columns],             Date                                           Headline Ticker\n",
      "0     2025-08-25                What's Eating at Restaurant Stocks?    MCD\n",
      "1     2025-08-23  ThinkCareBelieve:  Week 31 of Trump Leading Am...    MCD\n",
      "2     2025-08-22  Why Is Wall Street So Bearish on Krispy Kreme?...    MCD\n",
      "3     2025-08-21  Dow Jones Bulls Await Fed Catalyst to Push Pas...    MCD\n",
      "4     2025-08-21  China's Changing Tastes Buffet Western Brands ...    MCD\n",
      "...          ...                                                ...    ...\n",
      "2323  2018-11-25       Stock Market Power Rankings: Save Us, Amazon    MCD\n",
      "2324  2018-11-18  Stock Market Power Rankings: Apple's $190 Bill...    MCD\n",
      "2325  2018-11-12  Stock Market Power Rankings: Last Call for Fac...    MCD\n",
      "2326  2018-11-05                        Stock Market Power Rankings    MCD\n",
      "2327  2016-06-29  Chipotle Does Something It's Only Done Once Be...    MCD\n",
      "\n",
      "[2328 rows x 3 columns],             Date                                           Headline Ticker\n",
      "0     2025-08-25  AI Voice Generator Market Surges to $20.4 bill...   META\n",
      "1     2025-08-25  Meta Platforms: Why Zuckerberg’s META Sales Lo...   META\n",
      "2     2025-08-25  These Little-Known Funds Let You Skim 9% of Co...   META\n",
      "3     2025-08-25  Is This Artificial Intelligence (AI) Stock the...   META\n",
      "4     2025-08-25  Stocks Week Ahead: Will the S&P 500 Rally Exte...   META\n",
      "...          ...                                                ...    ...\n",
      "8310  2018-12-02  Stock Market Power Rankings: Microsoft Parties...   META\n",
      "8311  2018-11-25       Stock Market Power Rankings: Save Us, Amazon   META\n",
      "8312  2018-11-18  Stock Market Power Rankings: Apple's $190 Bill...   META\n",
      "8313  2018-11-12  Stock Market Power Rankings: Last Call for Fac...   META\n",
      "8314  2018-11-05                        Stock Market Power Rankings   META\n",
      "\n",
      "[8315 rows x 3 columns],              Date                                           Headline Ticker\n",
      "0      2025-08-13  AI in Education Market Surges to $5.82 billion...   MSFT\n",
      "1      2025-08-13  Machine Translation Market Size to Surpass USD...   MSFT\n",
      "2      2025-08-13  Nvidia and Microsoft Stocks Have Reached a $4 ...   MSFT\n",
      "3      2025-08-13            1 Green Flag for Cameco Stock Right Now   MSFT\n",
      "4      2025-08-13  Inworld Runtime: The first AI runtime for cons...   MSFT\n",
      "...           ...                                                ...    ...\n",
      "16085  2018-11-25       Stock Market Power Rankings: Save Us, Amazon   MSFT\n",
      "16086  2018-11-18  Stock Market Power Rankings: Apple's $190 Bill...   MSFT\n",
      "16087  2018-11-12  Stock Market Power Rankings: Last Call for Fac...   MSFT\n",
      "16088  2018-11-05                        Stock Market Power Rankings   MSFT\n",
      "16089  2016-06-28  Brexit Comes at a Particularly Bad Time for So...   MSFT\n",
      "\n",
      "[16090 rows x 3 columns],              Date                                           Headline Ticker\n",
      "0      2025-08-16  5 Artificial Intelligence (AI) Stocks to Buy a...   NVDA\n",
      "1      2025-08-16  This Under-the-Radar AI Stock Could Double You...   NVDA\n",
      "2      2025-08-16  This Red-Hot Vanguard ETF Just Hit an All-Time...   NVDA\n",
      "3      2025-08-16  After Gaining $394 Billion in Market Cap in 3 ...   NVDA\n",
      "4      2025-08-16  Don't Make This Common Investing Mistake When ...   NVDA\n",
      "...           ...                                                ...    ...\n",
      "18253  2020-05-19  Dow, S&P Jump Over 3% on Encouraging Vaccine Data   NVDA\n",
      "18254  2020-04-17  NASDAQ Jumps 1.6% as Stocks Rally Late into th...   NVDA\n",
      "18255  2020-03-31      Stocks Start the Week by Soaring More Than 3%   NVDA\n",
      "18256  2018-11-12  Stock Market Power Rankings: Last Call for Fac...   NVDA\n",
      "18257  2018-11-05                        Stock Market Power Rankings   NVDA\n",
      "\n",
      "[18258 rows x 3 columns],              Date                                           Headline Ticker\n",
      "0      2025-08-22  Motley Fool Interview With Karooooo CEO Zak Ca...   TSLA\n",
      "1      2025-08-22  Powell Hints At Interest Rate Cuts, Wall Stree...   TSLA\n",
      "2      2025-08-22  Elon Musk Ushers in a New Age of Expansion and...   TSLA\n",
      "3      2025-08-22              Why Shares of Tesla Are Soaring Today   TSLA\n",
      "4      2025-08-22        6 Moving Averages Every Serious Trader Uses   TSLA\n",
      "...           ...                                                ...    ...\n",
      "20386  2020-05-13  Stocks Slide About 2%, Ending NASDAQ's Six-Day...   TSLA\n",
      "20387  2020-05-02            Market Slides More Than 2% to Begin May   TSLA\n",
      "20388  2020-04-02             Second Quarter Begins with a 4% Plunge   TSLA\n",
      "20389  2019-03-09  Is This the Final Nail in the Coffin for Tesla...   TSLA\n",
      "20390  2018-11-18  Stock Market Power Rankings: Apple's $190 Bill...   TSLA\n",
      "\n",
      "[20391 rows x 3 columns]]\n"
     ]
    }
   ],
   "source": [
    "# get news\n",
    "all_news_df_list = []\n",
    "\n",
    "for ticker in tickers:\n",
    "    news_path = os.path.join(data_dir, f\"{ticker}_news.csv\")\n",
    "    if os.path.exists(news_path):\n",
    "        news_df = pd.read_csv(news_path)\n",
    "        news_df['Ticker'] = ticker\n",
    "        all_news_df_list.append(news_df)\n",
    "    else:\n",
    "        print(\"Brh no news avail\")\n",
    "\n",
    "print(f\"\\nFinished loading news for {len(all_news_df_list)} tickers\")\n",
    "print(all_news_df_list)\n"
   ]
  },
  {
   "cell_type": "code",
   "execution_count": 6,
   "id": "7bfc7ca6-f9f4-4f4a-a852-d7988ad5c294",
   "metadata": {},
   "outputs": [
    {
     "name": "stdout",
     "output_type": "stream",
     "text": [
      "(128384, 3)\n",
      "<bound method NDFrame.head of               Date                                           Headline Ticker\n",
      "0       2025-08-10  Warren Buffett's Bright Warning to Wall Street...   AAPL\n",
      "1       2025-08-10                          Is Apple Stock a Buy Now?   AAPL\n",
      "2       2025-08-09  Microsoft, Apple, Amazon, and Meta Just Gave N...   AAPL\n",
      "3       2025-08-09  AAPL NEWS: Did Apple Inc. Mislead Investors? C...   AAPL\n",
      "4       2025-08-09                   Is Arm Holdings Stock a Buy Now?   AAPL\n",
      "...            ...                                                ...    ...\n",
      "128379  2020-05-13  Stocks Slide About 2%, Ending NASDAQ's Six-Day...   TSLA\n",
      "128380  2020-05-02            Market Slides More Than 2% to Begin May   TSLA\n",
      "128381  2020-04-02             Second Quarter Begins with a 4% Plunge   TSLA\n",
      "128382  2019-03-09  Is This the Final Nail in the Coffin for Tesla...   TSLA\n",
      "128383  2018-11-18  Stock Market Power Rankings: Apple's $190 Bill...   TSLA\n",
      "\n",
      "[128384 rows x 3 columns]>\n"
     ]
    }
   ],
   "source": [
    "# combine news\n",
    "\n",
    "if all_news_df_list:\n",
    "    combined_news_df = pd.concat(all_news_df_list, ignore_index = True)\n",
    "    print(combined_news_df.shape)\n",
    "    print(combined_news_df.head)\n",
    "else:\n",
    "    print('No News')"
   ]
  },
  {
   "cell_type": "code",
   "execution_count": 7,
   "id": "23ac8b5c-a72b-41b3-a5f3-6ba1690582d1",
   "metadata": {
    "scrolled": true
   },
   "outputs": [
    {
     "name": "stderr",
     "output_type": "stream",
     "text": [
      "/home/seankimjr/miniconda3/envs/neurotrader/lib/python3.11/site-packages/tqdm/auto.py:21: TqdmWarning: IProgress not found. Please update jupyter and ipywidgets. See https://ipywidgets.readthedocs.io/en/stable/user_install.html\n",
      "  from .autonotebook import tqdm as notebook_tqdm\n",
      "100%|██████████████████████████████████████████████████████████████████████████████████████████████████████████████████████████████████████████████████████████████████████████████████████████████████| 128384/128384 [00:22<00:00, 5677.44it/s]"
     ]
    },
    {
     "name": "stdout",
     "output_type": "stream",
     "text": [
      "         Date                                           Headline Ticker  \\\n",
      "0  2025-08-10  Warren Buffett's Bright Warning to Wall Street...   AAPL   \n",
      "1  2025-08-10                          Is Apple Stock a Buy Now?   AAPL   \n",
      "2  2025-08-09  Microsoft, Apple, Amazon, and Meta Just Gave N...   AAPL   \n",
      "3  2025-08-09  AAPL NEWS: Did Apple Inc. Mislead Investors? C...   AAPL   \n",
      "4  2025-08-09                   Is Arm Holdings Stock a Buy Now?   AAPL   \n",
      "\n",
      "   Sentiment  \n",
      "0        0.7  \n",
      "1        0.0  \n",
      "2        0.8  \n",
      "3        0.1  \n",
      "4        0.0  \n"
     ]
    },
    {
     "name": "stderr",
     "output_type": "stream",
     "text": [
      "\n"
     ]
    }
   ],
   "source": [
    "def get_sentiment(text):\n",
    "    if not isinstance(text,str):\n",
    "        return 0\n",
    "    return TextBlob(text).sentiment.polarity\n",
    "from tqdm.auto import tqdm\n",
    "\n",
    "tqdm.pandas()\n",
    "combined_news_df[\"Sentiment\"] = combined_news_df['Headline'].progress_apply(get_sentiment)\n",
    "print(combined_news_df.head())"
   ]
  },
  {
   "cell_type": "code",
   "execution_count": 11,
   "id": "f5c452cd-5ac7-4654-8f9e-8456b27b0cba",
   "metadata": {},
   "outputs": [
    {
     "name": "stdout",
     "output_type": "stream",
     "text": [
      "        Date                                           Headline Ticker  \\\n",
      "0 2025-08-10  Warren Buffett's Bright Warning to Wall Street...   AAPL   \n",
      "1 2025-08-10                          Is Apple Stock a Buy Now?   AAPL   \n",
      "2 2025-08-09  Microsoft, Apple, Amazon, and Meta Just Gave N...   AAPL   \n",
      "3 2025-08-09  AAPL NEWS: Did Apple Inc. Mislead Investors? C...   AAPL   \n",
      "4 2025-08-09                   Is Arm Holdings Stock a Buy Now?   AAPL   \n",
      "\n",
      "   Sentiment  \n",
      "0        0.7  \n",
      "1        0.0  \n",
      "2        0.8  \n",
      "3        0.1  \n",
      "4        0.0  \n"
     ]
    }
   ],
   "source": [
    "combined_news_df['Sentiment']= pd.to_numeric(combined_news_df['Sentiment'], errors='coerce')\n",
    "combined_news_df['Sentiment'].fillna(0)\n",
    "\n",
    "print(combined_news_df.head())"
   ]
  },
  {
   "cell_type": "code",
   "execution_count": 12,
   "id": "ca27fd8b-b358-4b12-bb6e-a8a7be712b87",
   "metadata": {},
   "outputs": [
    {
     "name": "stdout",
     "output_type": "stream",
     "text": [
      "Date        Ticker\n",
      "2016-06-28  GOOG      0.0\n",
      "            MSFT     -0.7\n",
      "2016-06-29  MCD       0.0\n",
      "2017-04-10  AAPL      0.0\n",
      "2017-12-31  GOOG     -0.6\n",
      "Name: Sentiment, dtype: float64\n"
     ]
    }
   ],
   "source": [
    "combined_news_df['Date']= pd.to_datetime(combined_news_df['Date'])\n",
    "daily_sentiment = combined_news_df.groupby([combined_news_df['Date'].dt.date, 'Ticker'])['Sentiment'].mean()\n",
    "print(daily_sentiment.head())"
   ]
  },
  {
   "cell_type": "code",
   "execution_count": 13,
   "id": "05efe75b-9cba-4f67-b1c7-b26b196c05c8",
   "metadata": {},
   "outputs": [
    {
     "name": "stdout",
     "output_type": "stream",
     "text": [
      "        Date   Open   High    Low  Close     Volume Ticker  Sentiment\n",
      "0 1999-11-01  80.00  80.69  77.37  77.62  2487300.0   AAPL        0.0\n",
      "1 1999-11-02  78.00  81.69  77.31  80.25  3564600.0   AAPL        0.0\n",
      "2 1999-11-03  81.62  83.25  81.00  81.50  2932700.0   AAPL        0.0\n",
      "3 1999-11-04  82.06  85.37  80.62  83.62  3384700.0   AAPL        0.0\n",
      "4 1999-11-05  84.62  88.37  84.00  88.31  3721500.0   AAPL        0.0\n"
     ]
    }
   ],
   "source": [
    "daily_sentiment_df = daily_sentiment.reset_index()\n",
    "daily_sentiment_df.columns = ['Date', 'Ticker', 'Sentiment']\n",
    "\n",
    "daily_sentiment_df['Date'] = pd.to_datetime(daily_sentiment_df['Date']).dt.normalize()\n",
    "daily_sentiment_df['Ticker'] = daily_sentiment_df['Ticker'].str.upper().str.strip()\n",
    "\n",
    "price_df_for_merge = combined_price_df.reset_index()\n",
    "price_df_for_merge['Date'] = pd.to_datetime(price_df_for_merge['Date']).dt.normalize()\n",
    "price_df_for_merge['Ticker'] = price_df_for_merge['Ticker'].str.upper().str.strip()\n",
    "\n",
    "final_df = pd.merge(\n",
    "    price_df_for_merge,\n",
    "    daily_sentiment_df,\n",
    "    on=['Date', 'Ticker'],\n",
    "    how='left'\n",
    ")\n",
    "\n",
    "final_df['Sentiment'] = final_df['Sentiment'].fillna(0)\n",
    "\n",
    "print(final_df.head())"
   ]
  },
  {
   "cell_type": "code",
   "execution_count": 14,
   "id": "ba686198-7e5b-4642-80e8-afe26efa56da",
   "metadata": {},
   "outputs": [
    {
     "name": "stdout",
     "output_type": "stream",
     "text": [
      "             Open   High    Low  Close     Volume Ticker  Sentiment\n",
      "Date                                                               \n",
      "1999-11-01  80.00  80.69  77.37  77.62  2487300.0   AAPL        0.0\n",
      "1999-11-02  78.00  81.69  77.31  80.25  3564600.0   AAPL        0.0\n",
      "1999-11-03  81.62  83.25  81.00  81.50  2932700.0   AAPL        0.0\n",
      "1999-11-04  82.06  85.37  80.62  83.62  3384700.0   AAPL        0.0\n",
      "1999-11-05  84.62  88.37  84.00  88.31  3721500.0   AAPL        0.0\n"
     ]
    }
   ],
   "source": [
    "final_df.set_index('Date', inplace=True)\n",
    "\n",
    "print(final_df.head())"
   ]
  },
  {
   "cell_type": "code",
   "execution_count": 15,
   "id": "f7644ce0-f896-4d93-9c31-b0340308503d",
   "metadata": {},
   "outputs": [
    {
     "name": "stdout",
     "output_type": "stream",
     "text": [
      "               Open    High      Low   Close       Volume Ticker  Sentiment  \\\n",
      "Date                                                                          \n",
      "2025-08-04  204.505  207.88  201.675  203.35   75109298.0   AAPL   0.000000   \n",
      "2025-08-05  203.400  205.34  202.160  202.92   44155079.0   AAPL   0.010000   \n",
      "2025-08-06  205.630  215.38  205.590  213.25  108483103.0   AAPL   0.146614   \n",
      "2025-08-07  218.875  220.85  216.580  220.03   90224834.0   AAPL  -0.147186   \n",
      "2025-08-08  220.830  231.00  219.250  229.35  113853967.0   AAPL   0.146591   \n",
      "\n",
      "            Daily_Return  \n",
      "Date                      \n",
      "2025-08-04      0.004793  \n",
      "2025-08-05     -0.002115  \n",
      "2025-08-06      0.050907  \n",
      "2025-08-07      0.031794  \n",
      "2025-08-08      0.042358  \n"
     ]
    }
   ],
   "source": [
    "final_df['Daily_Return'] = final_df.groupby('Ticker')['Close'].transform(lambda x: x.pct_change())\n",
    "\n",
    "print(final_df[final_df[\"Ticker\"]== \"AAPL\"].tail())"
   ]
  },
  {
   "cell_type": "code",
   "execution_count": 16,
   "id": "f4312904-be5f-4fb4-9ec6-9d67431514d5",
   "metadata": {},
   "outputs": [
    {
     "name": "stdout",
     "output_type": "stream",
     "text": [
      "<class 'pandas.core.frame.DataFrame'>\n",
      "DatetimeIndex: 7382 entries, 1999-11-01 to 2025-09-04\n",
      "Data columns (total 8 columns):\n",
      " #   Column        Non-Null Count  Dtype  \n",
      "---  ------        --------------  -----  \n",
      " 0   Open          7382 non-null   float64\n",
      " 1   High          7382 non-null   float64\n",
      " 2   Low           7382 non-null   float64\n",
      " 3   Close         7382 non-null   float64\n",
      " 4   Volume        7382 non-null   float64\n",
      " 5   Ticker        7382 non-null   object \n",
      " 6   Sentiment     7382 non-null   float64\n",
      " 7   Daily_Return  7372 non-null   float64\n",
      "dtypes: float64(7), object(1)\n",
      "memory usage: 519.0+ KB\n",
      "None\n",
      "DatetimeIndex(['1999-11-01', '1999-11-02', '1999-11-03', '1999-11-04',\n",
      "               '1999-11-05', '1999-11-08', '1999-11-09', '1999-11-10',\n",
      "               '1999-11-11', '1999-11-12',\n",
      "               ...\n",
      "               '2025-09-03', '2025-09-04', '2025-09-04', '2025-09-04',\n",
      "               '2025-09-04', '2025-09-04', '2025-09-04', '2025-09-04',\n",
      "               '2025-09-04', '2025-09-04'],\n",
      "              dtype='datetime64[ns]', name='Date', length=7382, freq=None)\n",
      "882\n",
      "[False False False False False False False False]\n"
     ]
    }
   ],
   "source": [
    "print(final_df.info())  # shows columns, types, and non-null counts\n",
    "print(final_df.index)   # shows the index and if there are duplicates\n",
    "print(final_df.index.duplicated().sum())   # how many duplicate index rows\n",
    "print(final_df.columns.duplicated())       # check for duplicate column names\n"
   ]
  },
  {
   "cell_type": "code",
   "execution_count": 17,
   "id": "0aeeac39-32cf-4db2-8b65-d0477dc2f436",
   "metadata": {},
   "outputs": [
    {
     "name": "stderr",
     "output_type": "stream",
     "text": [
      "/home/seankimjr/miniconda3/envs/neurotrader/lib/python3.11/site-packages/pandas_ta/__init__.py:7: UserWarning: pkg_resources is deprecated as an API. See https://setuptools.pypa.io/en/latest/pkg_resources.html. The pkg_resources package is slated for removal as early as 2025-11-30. Refrain from using this package or pin to Setuptools<81.\n",
      "  from pkg_resources import get_distribution, DistributionNotFound\n"
     ]
    },
    {
     "name": "stdout",
     "output_type": "stream",
     "text": [
      "                     Open     High      Low   Close       Volume  Sentiment  \\\n",
      "Date       Ticker                                                             \n",
      "2025-08-28 NVDA    180.82  184.470  176.410  180.17  281787824.0        0.0   \n",
      "2025-08-29 NVDA    178.11  178.150  173.145  174.18  243257873.0        0.0   \n",
      "2025-09-02 NVDA    170.00  172.379  167.220  170.78  231164853.0        0.0   \n",
      "2025-09-03 NVDA    171.06  172.410  168.875  170.62  161466040.0        0.0   \n",
      "2025-09-04 NVDA    170.57  171.860  169.410  171.66  141670144.0        0.0   \n",
      "\n",
      "                   Daily_Return     MA20        RSI  Volatility  MACD_12_26_9  \\\n",
      "Date       Ticker                                                               \n",
      "2025-08-28 NVDA       -0.007874  179.676  57.596945    4.568902      2.753159   \n",
      "2025-08-29 NVDA       -0.033246  179.699  46.220519    2.890641      2.125646   \n",
      "2025-09-02 NVDA       -0.019520  179.238  41.241153    3.085157      1.338556   \n",
      "2025-09-03 NVDA       -0.000937  178.856  41.017214    2.093264      0.693872   \n",
      "2025-09-04 NVDA        0.006095  178.468  43.177056    1.446196      0.263834   \n",
      "\n",
      "                   MACDh_12_26_9  MACDs_12_26_9       ATR           OBV  \n",
      "Date       Ticker                                                        \n",
      "2025-08-28 NVDA        -0.760511       3.513670  4.788550  3.078167e+09  \n",
      "2025-08-29 NVDA        -1.110419       3.236066  4.948426  2.834909e+09  \n",
      "2025-09-02 NVDA        -1.518008       2.856564  5.092218  2.603744e+09  \n",
      "2025-09-03 NVDA        -1.730153       2.424025  4.980911  2.442278e+09  \n",
      "2025-09-04 NVDA        -1.728153       1.991987  4.800013  2.583948e+09  \n"
     ]
    }
   ],
   "source": [
    "import pandas as pd\n",
    "import pandas_ta as ta\n",
    "\n",
    "# Reset index if Date is already index\n",
    "final_df = final_df.reset_index()\n",
    "\n",
    "# Prepare a list to hold processed dataframes\n",
    "dfs = []\n",
    "\n",
    "# Process each ticker separately\n",
    "for ticker, df in final_df.groupby('Ticker'):\n",
    "    df = df.copy()  # avoid SettingWithCopyWarning\n",
    "    \n",
    "    # MA20 and RSI\n",
    "    df['MA20'] = df['Close'].rolling(20).mean()\n",
    "    df['RSI'] = ta.rsi(df['Close'], length=14)\n",
    "    \n",
    "    # Volatility\n",
    "    df['Volatility'] = (df['High'] - df['Low']) / df['Low'] * 100\n",
    "    \n",
    "    # MACD\n",
    "    macd = ta.macd(df['Close'], fast=12, slow=26, signal=9)\n",
    "    # Remove old MACD columns if they exist\n",
    "    for col in macd.columns:\n",
    "        if col in df.columns:\n",
    "            df = df.drop(columns=col)\n",
    "    df = df.join(macd)\n",
    "    \n",
    "    # ATR\n",
    "    atr = ta.atr(df['High'], df['Low'], df['Close'], length=14)\n",
    "    df['ATR'] = atr\n",
    "    \n",
    "    # OBV\n",
    "    obv = ta.obv(df['Close'], df['Volume'])\n",
    "    df['OBV'] = obv\n",
    "    \n",
    "    dfs.append(df)\n",
    "\n",
    "# Concatenate all tickers back into one DataFrame\n",
    "final_df = pd.concat(dfs, ignore_index=True)\n",
    "\n",
    "# Optional: set multi-index for Date + Ticker\n",
    "final_df.set_index(['Date', 'Ticker'], inplace=True)\n",
    "\n",
    "# Example: show last 5 rows for NVDA\n",
    "print(final_df.loc[pd.IndexSlice[:, 'NVDA'], :].tail())\n"
   ]
  },
  {
   "cell_type": "code",
   "execution_count": 18,
   "id": "b99b4495-5fe4-4f7c-95c1-02e3a73bb9cc",
   "metadata": {},
   "outputs": [
    {
     "name": "stdout",
     "output_type": "stream",
     "text": [
      "                      Open    High       Low   Close      Volume  Sentiment  \\\n",
      "Date       Ticker                                                             \n",
      "2025-08-28 MSFT    507.090  511.09  505.5000  509.64  18015593.0        0.0   \n",
      "2025-08-29 MSFT    508.660  509.60  504.4915  506.69  20961569.0        0.0   \n",
      "2025-09-02 MSFT    500.465  506.00  496.8100  505.12  18127995.0        0.0   \n",
      "2025-09-03 MSFT    503.790  507.79  502.3200  505.35  15995154.0        0.0   \n",
      "2025-09-04 MSFT    504.300  508.15  503.1500  507.97  15509486.0        0.0   \n",
      "\n",
      "                   Daily_Return      MA20        RSI  Volatility  \\\n",
      "Date       Ticker                                                  \n",
      "2025-08-28 MSFT        0.005723  516.8150  48.765922    1.105836   \n",
      "2025-08-29 MSFT       -0.005788  515.9440  46.084063    1.012604   \n",
      "2025-09-02 MSFT       -0.003099  514.4180  44.675894    1.849802   \n",
      "2025-09-03 MSFT        0.000455  513.2980  44.941319    1.088947   \n",
      "2025-09-04 MSFT        0.005185  512.4495  48.001702    0.993739   \n",
      "\n",
      "                   MACD_12_26_9  MACDh_12_26_9  MACDs_12_26_9       ATR  \\\n",
      "Date       Ticker                                                         \n",
      "2025-08-28 MSFT       -0.898717      -2.386121       1.487403  7.897436   \n",
      "2025-08-29 MSFT       -1.106792      -2.075356       0.968564  7.700924   \n",
      "2025-09-02 MSFT       -1.382443      -1.880805       0.498363  7.856690   \n",
      "2025-09-03 MSFT       -1.564306      -1.650135       0.085829  7.686092   \n",
      "2025-09-04 MSFT       -1.479962      -1.252633      -0.227329  7.494104   \n",
      "\n",
      "                           OBV  Target  \n",
      "Date       Ticker                       \n",
      "2025-08-28 MSFT    395149544.0       0  \n",
      "2025-08-29 MSFT    374187975.0       0  \n",
      "2025-09-02 MSFT    356059980.0       1  \n",
      "2025-09-03 MSFT    372055134.0       1  \n",
      "2025-09-04 MSFT    387564620.0       0  \n"
     ]
    }
   ],
   "source": [
    "final_df['Target'] = final_df.groupby('Ticker')['Close'].transform(\n",
    "    lambda x: (x.shift(-1) > x).astype(int)\n",
    ")\n",
    "print(final_df.loc[pd.IndexSlice[:, 'MSFT'], :].tail())"
   ]
  },
  {
   "cell_type": "code",
   "execution_count": 19,
   "id": "fb33fca4-91bd-46f6-bb99-6adee68d21a7",
   "metadata": {},
   "outputs": [
    {
     "name": "stdout",
     "output_type": "stream",
     "text": [
      "Shape of DataFrame before dropping NaNs: (7382, 16)\n",
      "Shape of DataFrame after dropping NaNs:  (7052, 16)\n"
     ]
    }
   ],
   "source": [
    "print(\"Shape of DataFrame before dropping NaNs:\", final_df.shape)\n",
    "final_df.dropna(inplace=True)\n",
    "\n",
    "final_df['Target'] = final_df['Target'].astype(int)\n",
    "\n",
    "print(\"Shape of DataFrame after dropping NaNs: \", final_df.shape)"
   ]
  },
  {
   "cell_type": "code",
   "execution_count": 22,
   "id": "0b4a058c-15d9-47cf-bd82-af035eb735e2",
   "metadata": {},
   "outputs": [
    {
     "name": "stdout",
     "output_type": "stream",
     "text": [
      "X_train shape: (5641, 10)\n",
      "y_train shape: (5641,)\n",
      "X_test shape: (1411, 10)\n",
      "y_test shape: (1411,)\n"
     ]
    }
   ],
   "source": [
    "feature_columns = [\n",
    "    'Sentiment', 'Daily_Return', 'MA20', 'RSI', 'Volatility',\n",
    "    'MACD_12_26_9', 'MACDh_12_26_9', 'MACDs_12_26_9',\n",
    "    'ATR', 'OBV'\n",
    "]\n",
    "X = final_df[feature_columns]\n",
    "y = final_df['Target']\n",
    "split_point = int(len(X) * 0.8)\n",
    "\n",
    "X_train = X[:split_point]\n",
    "X_test = X[split_point:]\n",
    "\n",
    "y_train = y[:split_point]\n",
    "y_test = y[split_point:]\n",
    "\n",
    "print(\"X_train shape:\", X_train.shape)\n",
    "print(\"y_train shape:\", y_train.shape)\n",
    "\n",
    "print(\"X_test shape:\", X_test.shape)\n",
    "print(\"y_test shape:\", y_test.shape)"
   ]
  },
  {
   "cell_type": "code",
   "execution_count": 27,
   "id": "987bf253-e619-48e2-bd2a-1b49483f82e8",
   "metadata": {},
   "outputs": [
    {
     "name": "stdout",
     "output_type": "stream",
     "text": [
      "\n",
      "Model Accuracy: 50.82%\n",
      "              precision    recall  f1-score   support\n",
      "\n",
      "        Down       0.46      0.23      0.31       667\n",
      "          Up       0.52      0.76      0.62       744\n",
      "\n",
      "    accuracy                           0.51      1411\n",
      "   macro avg       0.49      0.49      0.46      1411\n",
      "weighted avg       0.49      0.51      0.47      1411\n",
      "\n"
     ]
    },
    {
     "name": "stderr",
     "output_type": "stream",
     "text": [
      "/home/seankimjr/miniconda3/envs/neurotrader/lib/python3.11/site-packages/xgboost/training.py:183: UserWarning: [07:15:53] WARNING: /home/conda/feedstock_root/build_artifacts/xgboost-split_1754002079811/work/src/learner.cc:738: \n",
      "Parameters: { \"use_label_encoder\" } are not used.\n",
      "\n",
      "  bst.update(dtrain, iteration=i, fobj=obj)\n"
     ]
    }
   ],
   "source": [
    "from xgboost import XGBClassifier\n",
    "from sklearn.metrics import accuracy_score, classification_report\n",
    "\n",
    "best_params = {\n",
    "    'colsample_bytree': 0.7,\n",
    "    'learning_rate': 0.01,\n",
    "    'max_depth': 3,\n",
    "    'n_estimators': 100,\n",
    "    'subsample': 0.7,\n",
    "    'random_state': 42,\n",
    "    'use_label_encoder': False,\n",
    "    'eval_metric': 'logloss'\n",
    "}\n",
    "\n",
    "model = XGBClassifier(**best_params)\n",
    "model.fit(X_train, y_train)\n",
    "\n",
    "y_pred = model.predict(X_test)\n",
    "\n",
    "accuracy = accuracy_score(y_test, y_pred)\n",
    "print(f\"\\nModel Accuracy: {accuracy * 100:.2f}%\")\n",
    "print(classification_report(y_test, y_pred, target_names=['Down', 'Up']))"
   ]
  },
  {
   "cell_type": "code",
   "execution_count": 34,
   "id": "0b9d1497-6e54-4b65-b526-fee739397690",
   "metadata": {
    "scrolled": true
   },
   "outputs": [
    {
     "name": "stdout",
     "output_type": "stream",
     "text": [
      " Processing sequences for AAPL\n",
      " Processing sequences for AMZN\n",
      " Processing sequences for DIS\n",
      " Processing sequences for GOOG\n",
      " Processing sequences for KO\n",
      " Processing sequences for MCD\n",
      " Processing sequences for META\n",
      " Processing sequences for MSFT\n",
      " Processing sequences for NVDA\n",
      " Processing sequences for TSLA\n",
      "(6452, 60, 6)\n",
      "(6452,)\n"
     ]
    }
   ],
   "source": [
    "from sklearn.preprocessing import MinMaxScaler\n",
    "import numpy as np\n",
    "\n",
    "\n",
    "lstm_df_source = final_df.copy()\n",
    "lstm_feature_columns = ['Open', 'High', 'Low', 'Close', 'Volume', 'Sentiment']\n",
    "\n",
    "lookback_window = 60\n",
    "all_X_lstm = []\n",
    "all_y_lstm = []\n",
    "\n",
    "for ticker, group in lstm_df_source.groupby('Ticker'):\n",
    "    print(f\" Processing sequences for {ticker}\")\n",
    "\n",
    "    scler = MinMaxScaler(feature_range=(0,1))\n",
    "    scaled_data = scaler.fit_transform(group[lstm_feature_columns])\n",
    "\n",
    "    y_target = group['Target'].values\n",
    "\n",
    "    for i in range(lookback_window, len(scaled_data)):\n",
    "        all_X_lstm.append(scaled_data[i-lookback_window:i])\n",
    "        all_y_lstm.append(y_target[i])\n",
    "\n",
    "X_lstm = np.array(all_X_lstm)\n",
    "y_lstm = np.array(all_y_lstm)\n",
    "\n",
    "print(X_lstm.shape)\n",
    "print(y_lstm.shape)"
   ]
  },
  {
   "cell_type": "code",
   "execution_count": 35,
   "id": "bb1bfff7-a62d-4c2f-b054-140c8c893eb4",
   "metadata": {},
   "outputs": [
    {
     "name": "stdout",
     "output_type": "stream",
     "text": [
      "X_train_lstm shape: (5161, 60, 6)\n",
      "y_train_lstm shape: (5161,)\n",
      "X_test_lstm shape: (1291, 60, 6)\n",
      "y_test_lstm shape: (1291,)\n"
     ]
    }
   ],
   "source": [
    "split_point_lstm = int(len(X_lstm)*0.8)\n",
    "\n",
    "X_train_lstm = X_lstm[:split_point_lstm]\n",
    "X_test_lstm = X_lstm[split_point_lstm:]\n",
    "\n",
    "y_train_lstm = y_lstm[:split_point_lstm]\n",
    "y_test_lstm = y_lstm[split_point_lstm:]\n",
    "\n",
    "print(\"X_train_lstm shape:\", X_train_lstm.shape)\n",
    "print(\"y_train_lstm shape:\", y_train_lstm.shape)\n",
    "\n",
    "print(\"X_test_lstm shape:\", X_test_lstm.shape)\n",
    "print(\"y_test_lstm shape:\", y_test_lstm.shape)"
   ]
  },
  {
   "cell_type": "code",
   "execution_count": 36,
   "id": "ffd78af3-53cb-4523-980a-f4c3aab53ae7",
   "metadata": {},
   "outputs": [
    {
     "name": "stdout",
     "output_type": "stream",
     "text": [
      "torch.Size([5161, 60, 6])\n"
     ]
    }
   ],
   "source": [
    "import torch\n",
    "\n",
    "X_train_lstm_tensor = torch.from_numpy(X_train_lstm).float()\n",
    "y_train_lstm_tensor = torch.from_numpy(y_train_lstm).float()\n",
    "\n",
    "X_test_lstm_tensor = torch.from_numpy(X_test_lstm).float()\n",
    "y_test_lstm_tensor = torch.from_numpy(y_test_lstm).float()\n",
    "\n",
    "print(X_train_lstm_tensor.shape)"
   ]
  },
  {
   "cell_type": "code",
   "execution_count": 37,
   "id": "9bb589cb-e99f-4e4e-b9a7-bff72bd02abe",
   "metadata": {},
   "outputs": [],
   "source": [
    "import torch.nn as nn\n",
    "\n",
    "class LSTMModel(nn.Module):\n",
    "    def __init__(self, input_size=6, hidden_layer_size=50, output_size=1):\n",
    "        super().__init__()\n",
    "        self.hidden_layer_size = hidden_layer_size\n",
    "\n",
    "        # Define the LSTM layer. batch_first=True is important for our data shape.\n",
    "        self.lstm = nn.LSTM(input_size, hidden_layer_size, batch_first=True)\n",
    "\n",
    "        # Define the output layer that takes the LSTM's output and makes a prediction\n",
    "        self.linear = nn.Linear(hidden_layer_size, output_size)\n",
    "\n",
    "        # Define the activation function to squash the output to a probability (0 to 1)\n",
    "        self.sigmoid = nn.Sigmoid()\n",
    "\n",
    "    def forward(self, input_seq):\n",
    "        # The LSTM returns the full sequence output and the final hidden state\n",
    "        lstm_out, _ = self.lstm(input_seq)\n",
    "        \n",
    "        # We only care about the output of the very last timestep in the sequence\n",
    "        last_time_step_out = lstm_out[:, -1, :]\n",
    "        \n",
    "        # Pass the last output through the linear layer\n",
    "        predictions = self.linear(last_time_step_out)\n",
    "        \n",
    "        # Apply the sigmoid function to get our final 0-1 prediction\n",
    "        final_prediction = self.sigmoid(predictions)\n",
    "        return final_prediction\n"
   ]
  },
  {
   "cell_type": "code",
   "execution_count": 38,
   "id": "1bc47d0c-a632-4b55-bb88-fe60348f7bce",
   "metadata": {},
   "outputs": [
    {
     "name": "stderr",
     "output_type": "stream",
     "text": [
      "/home/seankimjr/miniconda3/envs/neurotrader/lib/python3.11/site-packages/torch/autograd/graph.py:825: UserWarning: XPU device count is zero! (Triggered internally at /build/pytorch/c10/xpu/XPUFunctions.cpp:50.)\n",
      "  return Variable._execution_engine.run_backward(  # Calls into the C++ engine to run the backward pass\n"
     ]
    },
    {
     "name": "stdout",
     "output_type": "stream",
     "text": [
      "Epoch:   5 loss: 0.69235426\n",
      "Epoch:  10 loss: 0.69243550\n",
      "Epoch:  15 loss: 0.69232500\n",
      "Epoch:  20 loss: 0.69231045\n"
     ]
    }
   ],
   "source": [
    "model = LSTMModel()\n",
    "loss_function = nn.BCELoss()\n",
    "optimizer = torch.optim.Adam(model.parameters(), lr=0.001)\n",
    "epochs = 20\n",
    "model.train() \n",
    "for i in range(epochs):\n",
    "    # Get the model's prediction for the entire training set\n",
    "    y_pred = model(X_train_lstm_tensor)\n",
    "    \n",
    "    # Calculate the loss by comparing the predictions to the true labels\n",
    "    # We need to reshape the labels to match the prediction's shape\n",
    "    loss = loss_function(y_pred, y_train_lstm_tensor.view(-1, 1))\n",
    "    \n",
    "    # The standard PyTorch training steps:\n",
    "    optimizer.zero_grad() # 1. Reset the gradients\n",
    "    loss.backward()       # 2. Backpropagate the loss (calculate gradients)\n",
    "    optimizer.step()      # 3. Update the model's weights\n",
    "    \n",
    "    # Print the loss every 5 epochs so we can see it improving\n",
    "    if (i+1) % 5 == 0:\n",
    "      print(f'Epoch: {i+1:3} loss: {loss.item():10.8f}')"
   ]
  },
  {
   "cell_type": "code",
   "execution_count": 39,
   "id": "22b1d261-9a8b-4830-aaa9-22560a499ff1",
   "metadata": {},
   "outputs": [],
   "source": [
    "import torch.nn as nn\n",
    "\n",
    "#Different LSTM Archetechture\n",
    "class LSTMModelV2(nn.Module):\n",
    "    def __init__(self, input_size=6, hidden_layer_size=50, num_layers=2, output_size=1, dropout_prob=0.2):\n",
    "        super().__init__()\n",
    "        # Define a multi-layer LSTM. batch_first=True is important.\n",
    "        self.lstm = nn.LSTM(input_size, hidden_layer_size, num_layers, batch_first=True, dropout=dropout_prob)\n",
    "\n",
    "        # Define the output layer\n",
    "        self.linear = nn.Linear(hidden_layer_size, output_size)\n",
    "\n",
    "        # Define the activation function\n",
    "        self.sigmoid = nn.Sigmoid()\n",
    "\n",
    "    def forward(self, input_seq):\n",
    "        lstm_out, _ = self.lstm(input_seq)\n",
    "        last_time_step_out = lstm_out[:, -1, :]\n",
    "        predictions = self.linear(last_time_step_out)\n",
    "        final_prediction = self.sigmoid(predictions)\n",
    "        return final_prediction\n",
    "\n"
   ]
  },
  {
   "cell_type": "code",
   "execution_count": 40,
   "id": "51352afb-c719-4db2-8cb1-7c335ce95973",
   "metadata": {},
   "outputs": [
    {
     "name": "stdout",
     "output_type": "stream",
     "text": [
      "Epoch:   5 loss: 0.69486099\n",
      "Epoch:  10 loss: 0.69231987\n",
      "Epoch:  15 loss: 0.69286340\n",
      "Epoch:  20 loss: 0.69238776\n",
      "\n",
      "Training complete!\n"
     ]
    }
   ],
   "source": [
    "model_v2 = LSTMModelV2()\n",
    "\n",
    "loss_function = nn.BCELoss()\n",
    "optimizer = torch.optim.Adam(model_v2.parameters(), lr=0.001)\n",
    "\n",
    "epochs = 20\n",
    "\n",
    "model_v2.train()\n",
    "\n",
    "for i in range(epochs):\n",
    "    y_pred = model_v2(X_train_lstm_tensor)\n",
    "    \n",
    "    loss = loss_function(y_pred, y_train_lstm_tensor.view(-1, 1))\n",
    "    \n",
    "    optimizer.zero_grad()\n",
    "    loss.backward()\n",
    "    optimizer.step()\n",
    "    \n",
    "    if (i+1) % 5 == 0:\n",
    "      print(f'Epoch: {i+1:3} loss: {loss.item():10.8f}')\n"
   ]
  },
  {
   "cell_type": "code",
   "execution_count": 41,
   "id": "0e711909-4146-442f-a040-b099ccf1fbf3",
   "metadata": {},
   "outputs": [
    {
     "name": "stdout",
     "output_type": "stream",
     "text": [
      "\n",
      "LSTM Model Accuracy: 52.59%\n",
      "\n",
      "LSTM Classification Report:\n",
      "              precision    recall  f1-score   support\n",
      "\n",
      "        Down       0.00      0.00      0.00       612\n",
      "          Up       0.53      1.00      0.69       679\n",
      "\n",
      "    accuracy                           0.53      1291\n",
      "   macro avg       0.26      0.50      0.34      1291\n",
      "weighted avg       0.28      0.53      0.36      1291\n",
      "\n"
     ]
    },
    {
     "name": "stderr",
     "output_type": "stream",
     "text": [
      "/home/seankimjr/miniconda3/envs/neurotrader/lib/python3.11/site-packages/sklearn/metrics/_classification.py:1731: UndefinedMetricWarning: Precision is ill-defined and being set to 0.0 in labels with no predicted samples. Use `zero_division` parameter to control this behavior.\n",
      "  _warn_prf(average, modifier, f\"{metric.capitalize()} is\", result.shape[0])\n",
      "/home/seankimjr/miniconda3/envs/neurotrader/lib/python3.11/site-packages/sklearn/metrics/_classification.py:1731: UndefinedMetricWarning: Precision is ill-defined and being set to 0.0 in labels with no predicted samples. Use `zero_division` parameter to control this behavior.\n",
      "  _warn_prf(average, modifier, f\"{metric.capitalize()} is\", result.shape[0])\n",
      "/home/seankimjr/miniconda3/envs/neurotrader/lib/python3.11/site-packages/sklearn/metrics/_classification.py:1731: UndefinedMetricWarning: Precision is ill-defined and being set to 0.0 in labels with no predicted samples. Use `zero_division` parameter to control this behavior.\n",
      "  _warn_prf(average, modifier, f\"{metric.capitalize()} is\", result.shape[0])\n"
     ]
    }
   ],
   "source": [
    "from sklearn.metrics import accuracy_score, classification_report\n",
    "\n",
    "model_v2.eval()\n",
    "\n",
    "with torch.no_grad():\n",
    "    test_predictions_raw = model_v2(X_test_lstm_tensor)\n",
    "    \n",
    "    test_predictions = (test_predictions_raw.cpu().numpy() > 0.5).astype(int)\n",
    "accuracy_lstm = accuracy_score(y_test_lstm, test_predictions)\n",
    "print(f\"\\nLSTM Model Accuracy: {accuracy_lstm * 100:.2f}%\")\n",
    "\n",
    "print(\"\\nLSTM Classification Report:\")\n",
    "print(classification_report(y_test_lstm, test_predictions, target_names=['Down', 'Up']))"
   ]
  },
  {
   "cell_type": "code",
   "execution_count": 42,
   "id": "305ffe59-4b89-415f-baf6-08f5cafa2571",
   "metadata": {},
   "outputs": [
    {
     "name": "stdout",
     "output_type": "stream",
     "text": [
      "  Processing sequences for AAPL\n",
      "  Processing sequences for AMZN\n",
      "  Processing sequences for DIS\n",
      "  Processing sequences for GOOG\n",
      "  Processing sequences for KO\n",
      "  Processing sequences for MCD\n",
      "  Processing sequences for META\n",
      "  Processing sequences for MSFT\n",
      "  Processing sequences for NVDA\n",
      "  Processing sequences for TSLA\n",
      "(6402, 60, 6)\n",
      "(6402, 5)\n"
     ]
    }
   ],
   "source": [
    "from sklearn.preprocessing import MinMaxScaler\n",
    "import numpy as np\n",
    "\n",
    "regression_df_source = final_df.copy()\n",
    "\n",
    "input_feature_columns = ['Open', 'High', 'Low', 'Close', 'Volume', 'Sentiment']\n",
    "\n",
    "output_feature_column = ['Close'] \n",
    "\n",
    "lookback_window = 60\n",
    "lookahead_window = 5 \n",
    "\n",
    "all_X_reg = []\n",
    "all_y_reg = []\n",
    "\n",
    "for ticker, group in regression_df_source.groupby('Ticker'):\n",
    "    print(f\"  Processing sequences for {ticker}\")\n",
    "    \n",
    "    scaler_x = MinMaxScaler(feature_range=(0, 1))\n",
    "    scaled_x_data = scaler_x.fit_transform(group[input_feature_columns])\n",
    "    \n",
    "    scaler_y = MinMaxScaler(feature_range=(0, 1))\n",
    "    scaled_y_data = scaler_y.fit_transform(group[output_feature_column])\n",
    "    \n",
    "    for i in range(lookback_window, len(scaled_x_data) - lookahead_window):\n",
    "        all_X_reg.append(scaled_x_data[i-lookback_window:i])\n",
    "        all_y_reg.append(scaled_y_data[i:i+lookahead_window].flatten())\n",
    "\n",
    "X_reg = np.array(all_X_reg)\n",
    "y_reg = np.array(all_y_reg)\n",
    "\n",
    "print(X_reg.shape)\n",
    "print(y_reg.shape)"
   ]
  },
  {
   "cell_type": "code",
   "execution_count": 44,
   "id": "60e4281d-f0eb-4660-818a-6fde0c383746",
   "metadata": {},
   "outputs": [
    {
     "name": "stdout",
     "output_type": "stream",
     "text": [
      "X_train_reg shape: (5161, 60, 6)\n",
      "y_train_reg shape: (5161, 5)\n",
      "X_test_reg shape: (1241, 60, 6)\n",
      "y_test_reg shape: (1241, 5)\n"
     ]
    }
   ],
   "source": [
    "split_point_reg = int(len(X_lstm)*0.8)\n",
    "\n",
    "X_train_reg = X_reg[:split_point_reg]\n",
    "X_test_reg = X_reg[split_point_reg:]\n",
    "\n",
    "y_train_reg = y_reg[:split_point_reg]\n",
    "y_test_reg = y_reg[split_point_reg:]\n",
    "\n",
    "print(\"X_train_reg shape:\", X_train_reg.shape)\n",
    "print(\"y_train_reg shape:\", y_train_reg.shape)\n",
    "\n",
    "print(\"X_test_reg shape:\", X_test_reg.shape)\n",
    "print(\"y_test_reg shape:\", y_test_reg.shape)"
   ]
  },
  {
   "cell_type": "code",
   "execution_count": 45,
   "id": "fd2ecd31-b7f9-447c-bdb1-292a5b917a56",
   "metadata": {},
   "outputs": [
    {
     "name": "stdout",
     "output_type": "stream",
     "text": [
      "torch.Size([5161, 60, 6])\n"
     ]
    }
   ],
   "source": [
    "X_train_reg_tensor = torch.from_numpy(X_train_reg).float()\n",
    "y_train_reg_tensor = torch.from_numpy(y_train_reg).float()\n",
    "\n",
    "X_test_reg_tensor = torch.from_numpy(X_test_reg).float()\n",
    "y_test_reg_tensor = torch.from_numpy(y_test_reg).float()\n",
    "\n",
    "print(X_train_reg_tensor.shape)"
   ]
  },
  {
   "cell_type": "code",
   "execution_count": 47,
   "id": "64b06bba-6d63-4a68-8155-cbd1bfdbed31",
   "metadata": {},
   "outputs": [],
   "source": [
    "# LSTM Lin Reg Model\n",
    "import torch.nn as nn\n",
    "\n",
    "class LSTMRegressor(nn.Module):\n",
    "    def __init__(self, input_size=6, hidden_layer_size=50, output_size=5):\n",
    "        super().__init__()\n",
    "        self.hidden_layer_size = hidden_layer_size\n",
    "\n",
    "        # Second layer of LSTM\n",
    "        self.lstm = nn.LSTM(input_size, hidden_layer_size, num_layers=2, batch_first=True, dropout=0.2)\n",
    "\n",
    "        self.linear = nn.Linear(hidden_layer_size, output_size)\n",
    "\n",
    "    def forward(self, input_seq):\n",
    "        lstm_out, _ = self.lstm(input_seq)\n",
    "        \n",
    "        last_time_step_out = lstm_out[:, -1, :]\n",
    "        \n",
    "        prediction = self.linear(last_time_step_out)\n",
    "        \n",
    "        return prediction"
   ]
  },
  {
   "cell_type": "code",
   "execution_count": 53,
   "id": "7ed882b2-182a-4381-a173-a440dd072451",
   "metadata": {},
   "outputs": [
    {
     "name": "stdout",
     "output_type": "stream",
     "text": [
      "Epoch:   5 loss: 0.09951177\n",
      "Epoch:  10 loss: 0.07232413\n",
      "Epoch:  15 loss: 0.04616300\n",
      "Epoch:  20 loss: 0.04026823\n",
      "Epoch:  25 loss: 0.02657239\n",
      "Epoch:  30 loss: 0.01452291\n",
      "Done\n"
     ]
    }
   ],
   "source": [
    "model_reg = LSTMRegressor()\n",
    "\n",
    "loss_function = nn.MSELoss()\n",
    "\n",
    "optimizer = torch.optim.Adam(model_reg.parameters(), lr = 0.001)\n",
    "\n",
    "epochs = 30\n",
    "\n",
    "model_reg.train()\n",
    "\n",
    "for i in range(epochs):\n",
    "    y_pred = model_reg(X_train_reg_tensor)\n",
    "\n",
    "    loss = loss_function(y_pred, y_train_reg_tensor)\n",
    "\n",
    "    optimizer.zero_grad()\n",
    "    loss.backward()\n",
    "    optimizer.step()\n",
    "\n",
    "    if (i+1)%5 == 0:\n",
    "        print(f'Epoch: {i+1:3} loss: {loss.item():10.8f}')\n",
    "\n",
    "\n",
    "print(\"Done\")"
   ]
  },
  {
   "cell_type": "code",
   "execution_count": 56,
   "id": "0aa88033-1740-4fb0-b338-7f18972075f5",
   "metadata": {},
   "outputs": [
    {
     "data": {
      "image/png": "[encoded data removed]",
      "text/plain": [
       "<Figure size 1500x700 with 1 Axes>"
      ]
     },
     "metadata": {},
     "output_type": "display_data"
    }
   ],
   "source": [
    "import matplotlib.pyplot as plt\n",
    "\n",
    "model_reg.eval()\n",
    "\n",
    "with torch.no_grad():\n",
    "    test_predictions_scaled = model_reg(X_test_reg_tensor)\n",
    "\n",
    "output_feature_column = ['Close']\n",
    "scaler_y = MinMaxScaler(feature_range=(0,1))\n",
    "scaler_y.fit(final_df[output_feature_column])\n",
    "\n",
    "predicted_prices = scaler_y.inverse_transform(test_predictions_scaled.cpu().numpy())\n",
    "actual_prices = scaler_y.inverse_transform(y_test_reg)\n",
    "\n",
    "plt.figure(figsize=(15, 7))\n",
    "plt.plot(actual_prices[-200:, 0], label='Actual Price', color='blue')\n",
    "plt.plot(predicted_prices[-200:, 0], label='Predicted Price (Day 1)', color='red', linestyle='--')\n",
    "plt.title('Stock Price Prediction (1 Day Ahead)')\n",
    "plt.xlabel('Time (Days)')\n",
    "plt.ylabel('Price (USD)')\n",
    "plt.legend()\n",
    "plt.grid(True)\n",
    "plt.show()"
   ]
  },
  {
   "cell_type": "code",
   "execution_count": 66,
   "id": "ec7d290b-fc0a-4731-8588-2fa36522cdc1",
   "metadata": {},
   "outputs": [
    {
     "name": "stdout",
     "output_type": "stream",
     "text": [
      "  Processing feature-rich sequences for AAPL...\n",
      "  Processing feature-rich sequences for AMZN...\n",
      "  Processing feature-rich sequences for DIS...\n",
      "  Processing feature-rich sequences for GOOG...\n",
      "  Processing feature-rich sequences for KO...\n",
      "  Processing feature-rich sequences for MCD...\n",
      "  Processing feature-rich sequences for META...\n",
      "  Processing feature-rich sequences for MSFT...\n",
      "  Processing feature-rich sequences for NVDA...\n",
      "  Processing feature-rich sequences for TSLA...\n"
     ]
    }
   ],
   "source": [
    "feature_rich_df = final_df.copy()\n",
    "\n",
    "input_feature_columns = [\n",
    "    'Close', 'Volume', 'Sentiment', \n",
    "    'RSI', 'MACD_12_26_9', 'ATR', 'Volatility'\n",
    "]\n",
    "\n",
    "output_feature_column = ['Close'] \n",
    "\n",
    "lookback_window = 60\n",
    "lookahead_window = 5\n",
    "all_X_lstm_rich = []\n",
    "all_y_lstm_rich = []\n",
    "\n",
    "for ticker, group in feature_rich_df.groupby('Ticker'):\n",
    "    print(f\"  Processing feature-rich sequences for {ticker}...\")\n",
    "    \n",
    "    scaler_x = MinMaxScaler(feature_range=(0, 1))\n",
    "    scaled_x_data = scaler_x.fit_transform(group[input_feature_columns])\n",
    "    \n",
    "    scaler_y = MinMaxScaler(feature_range=(0, 1))\n",
    "    scaled_y_data = scaler_y.fit_transform(group[output_feature_column])\n",
    "    \n",
    "    for i in range(lookback_window, len(scaled_x_data) - lookahead_window):\n",
    "        all_X_lstm_rich.append(scaled_x_data[i-lookback_window:i])\n",
    "        all_y_lstm_rich.append(scaled_y_data[i:i+lookahead_window].flatten())\n",
    "\n",
    "X_lstm_rich = np.array(all_X_lstm_rich)\n",
    "y_lstm_rich = np.array(all_y_lstm_rich)"
   ]
  },
  {
   "cell_type": "code",
   "execution_count": 67,
   "id": "ad9dff75-85a7-4bb1-a166-4a22516e5767",
   "metadata": {},
   "outputs": [
    {
     "name": "stdout",
     "output_type": "stream",
     "text": [
      "X_train_rich shape: (5121, 60, 7)\n",
      "y_train_rich shape: (5121, 5)\n",
      "X_test_rich shape: (1281, 60, 7)\n",
      "y_test_rich shape: (1281, 5)\n"
     ]
    }
   ],
   "source": [
    "split_point_rich = int(len(X_lstm_rich)*0.8)\n",
    "\n",
    "X_train_rich = X_lstm_rich[:split_point_rich]\n",
    "X_test_rich = X_lstm_rich[split_point_rich:]\n",
    "\n",
    "y_train_rich = y_lstm_rich[:split_point_rich]\n",
    "y_test_rich = y_lstm_rich[split_point_rich:]\n",
    "\n",
    "print(\"X_train_rich shape:\", X_train_rich.shape)\n",
    "print(\"y_train_rich shape:\", y_train_rich.shape)\n",
    "\n",
    "print(\"X_test_rich shape:\", X_test_rich.shape)\n",
    "print(\"y_test_rich shape:\", y_test_rich.shape)"
   ]
  },
  {
   "cell_type": "code",
   "execution_count": 69,
   "id": "ce4e2253-9444-4b73-b992-7056bd2b4c64",
   "metadata": {},
   "outputs": [
    {
     "name": "stdout",
     "output_type": "stream",
     "text": [
      "torch.Size([5121, 60, 7])\n",
      "torch.Size([5121, 5])\n"
     ]
    }
   ],
   "source": [
    "X_train_rich_tensor = torch.from_numpy(X_train_rich).float()\n",
    "y_train_rich_tensor = torch.from_numpy(y_train_rich).float()\n",
    "\n",
    "X_test_rich_tensor = torch.from_numpy(X_test_rich).float()\n",
    "y_test_rich_tensor = torch.from_numpy(y_test_rich).float()\n",
    "\n",
    "print(X_train_rich_tensor.shape)\n",
    "\n",
    "print(y_train_rich_tensor.shape)"
   ]
  },
  {
   "cell_type": "code",
   "execution_count": 72,
   "id": "cace6f1b-b074-4e0b-910f-fb7bbc7449ca",
   "metadata": {},
   "outputs": [
    {
     "name": "stdout",
     "output_type": "stream",
     "text": [
      "Epoch:   5 loss: 0.10097666\n",
      "Epoch:  10 loss: 0.07594212\n",
      "Epoch:  15 loss: 0.05245032\n",
      "Epoch:  20 loss: 0.05288786\n",
      "Epoch:  25 loss: 0.04492039\n",
      "Epoch:  30 loss: 0.04321865\n",
      "Done\n"
     ]
    }
   ],
   "source": [
    "model_rich = LSTMRegressor(input_size=7)\n",
    "loss_function = nn.MSELoss()\n",
    "optimizer_rich = torch.optim.Adam(model_rich.parameters(), lr=0.001)\n",
    "epochs = 30\n",
    "model_rich.train()\n",
    "\n",
    "for i in range(epochs):\n",
    "    y_pred = model_rich(X_train_rich_tensor)\n",
    "\n",
    "    loss = loss_function(y_pred, y_train_rich_tensor)\n",
    "\n",
    "    optimizer_rich.zero_grad()\n",
    "    loss.backward()\n",
    "    optimizer_rich.step()\n",
    "\n",
    "    if (i+1)%5 == 0:\n",
    "        print(f'Epoch: {i+1:3} loss: {loss.item():10.8f}')\n",
    "\n",
    "\n",
    "print(\"Done\")"
   ]
  },
  {
   "cell_type": "code",
   "execution_count": 73,
   "id": "88b605bd-0e59-49bf-b9ad-a36549384d59",
   "metadata": {},
   "outputs": [
    {
     "data": {
      "image/png": "[encoded data removed]",
      "text/plain": [
       "<Figure size 1500x700 with 1 Axes>"
      ]
     },
     "metadata": {},
     "output_type": "display_data"
    }
   ],
   "source": [
    "import matplotlib.pyplot as plt\n",
    "\n",
    "model_rich.eval()\n",
    "\n",
    "with torch.no_grad():\n",
    "    test_predictions_scaled = model_rich(X_test_rich_tensor)\n",
    "\n",
    "output_feature_column = ['Close']\n",
    "scaler_y = MinMaxScaler(feature_range=(0,1))\n",
    "scaler_y.fit(final_df[output_feature_column])\n",
    "\n",
    "predicted_prices = scaler_y.inverse_transform(test_predictions_scaled.cpu().numpy())\n",
    "actual_prices = scaler_y.inverse_transform(y_test_rich)\n",
    "\n",
    "plt.figure(figsize=(15, 7))\n",
    "plt.plot(actual_prices[-200:, 0], label='Actual Price', color='blue')\n",
    "plt.plot(predicted_prices[-200:, 0], label='Predicted Price (Day 1)', color='red', linestyle='--')\n",
    "plt.title('Stock Price Prediction (1 Day Ahead)')\n",
    "plt.xlabel('Time (Days)')\n",
    "plt.ylabel('Price (USD)')\n",
    "plt.legend()\n",
    "plt.grid(True)\n",
    "plt.show()"
   ]
  },
  {
   "cell_type": "code",
   "execution_count": 74,
   "id": "67a44ca3-0f1e-4c65-9094-e87b6e50d98e",
   "metadata": {},
   "outputs": [
    {
     "name": "stdout",
     "output_type": "stream",
     "text": [
      "XGBoost model saved to: ../models/xgboost_model.pkl\n"
     ]
    }
   ],
   "source": [
    "import joblib\n",
    "\n",
    "model_save_dir = '../models/'\n",
    "os.makedirs(model_save_dir, exist_ok=True)\n",
    "\n",
    "xgboost_model_path = os.path.join(model_save_dir, 'xgboost_model.pkl')\n",
    "joblib.dump(model, xgboost_model_path)\n",
    "\n",
    "print(f\"XGBoost model saved to: {xgboost_model_path}\")"
   ]
  },
  {
   "cell_type": "code",
   "execution_count": 75,
   "id": "a6ffb284-fa31-4924-b11d-c1a09464f674",
   "metadata": {},
   "outputs": [
    {
     "name": "stdout",
     "output_type": "stream",
     "text": [
      "LSTM model saved to: ../models/lstm_model.pth\n"
     ]
    }
   ],
   "source": [
    "import torch\n",
    "\n",
    "lstm_model_path = os.path.join(model_save_dir, 'lstm_model.pth')\n",
    "torch.save(model_rich.state_dict(), lstm_model_path)\n",
    "\n",
    "print(f\"LSTM model saved to: {lstm_model_path}\")"
   ]
  },
  {
   "cell_type": "code",
   "execution_count": null,
   "id": "abdb3b42-b5f0-4909-93ca-ab6b95f4ce6f",
   "metadata": {},
   "outputs": [],
   "source": []
  }
 ],
 "metadata": {
  "kernelspec": {
   "display_name": "Python 3 (ipykernel)",
   "language": "python",
   "name": "python3"
  },
  "language_info": {
   "codemirror_mode": {
    "name": "ipython",
    "version": 3
   },
   "file_extension": ".py",
   "mimetype": "text/x-python",
   "name": "python",
   "nbconvert_exporter": "python",
   "pygments_lexer": "ipython3",
   "version": "3.11.13"
  }
 },
 "nbformat": 4,
 "nbformat_minor": 5
}
